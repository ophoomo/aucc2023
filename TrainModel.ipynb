{
  "cells": [
    {
      "cell_type": "markdown",
      "metadata": {
        "id": "TSZcg0-r8eJU"
      },
      "source": [
        "# Import Library"
      ]
    },
    {
      "cell_type": "code",
      "execution_count": null,
      "metadata": {
        "id": "l3GHR1zlmRGF"
      },
      "outputs": [],
      "source": [
        "import os  #case connect via OS\n",
        "from tensorflow.keras.utils import load_img\n",
        "import matplotlib.pyplot as plt\n",
        "from sklearn.metrics import classification_report,confusion_matrix\n",
        "from tensorflow.keras.utils import img_to_array\n",
        "import tensorflow as tf\n",
        "import numpy as np\n",
        "import cv2\n",
        "import pandas as pd\n",
        "import keras\n",
        "from tensorflow.keras.models import Sequential\n",
        "from tensorflow.keras.layers import Dense, Flatten, Conv2D, Dropout, MaxPooling2D\n",
        "import graphviz\n",
        "from ann_visualizer.visualize import ann_viz"
      ]
    },
    {
      "cell_type": "code",
      "execution_count": null,
      "metadata": {
        "id": "phlw_Y8VIOgX"
      },
      "outputs": [],
      "source": [
        "X_Train = []\n",
        "Y_Train = []\n",
        "X_Test = []\n",
        "Y_Test = []\n",
        "class_name = []"
      ]
    },
    {
      "cell_type": "code",
      "execution_count": null,
      "metadata": {
        "colab": {
          "base_uri": "https://localhost:8080/"
        },
        "id": "rbzCl1cBIRrH",
        "outputId": "bc9dd818-599d-4aa0-a4db-8c27fc5a9c96"
      },
      "outputs": [],
      "source": [
        "#นำ name_folder_trainset มาใส่ใน array\n",
        "directory_train = 'dataset/train'\n",
        "folder_train = [folder for folder in os.listdir(directory_train) if os.path.isdir(os.path.join(directory_train, folder))]\n",
        "print(folder_train)"
      ]
    },
    {
      "cell_type": "code",
      "execution_count": null,
      "metadata": {
        "colab": {
          "base_uri": "https://localhost:8080/"
        },
        "id": "E61ungeRoHZl",
        "outputId": "f515c3ea-d08e-4843-aa91-bfde334e574e"
      },
      "outputs": [],
      "source": [
        "directory_test = 'dataset/test'\n",
        "folder_test = [folder for folder in os.listdir(directory_test) if os.path.isdir(os.path.join(directory_test, folder))]\n",
        "print(folder_test)"
      ]
    },
    {
      "cell_type": "code",
      "execution_count": null,
      "metadata": {
        "colab": {
          "base_uri": "https://localhost:8080/"
        },
        "id": "mad7J8hltwuK",
        "outputId": "9fe26cd6-b930-4cb1-de44-47af5e5e1602"
      },
      "outputs": [],
      "source": [
        "class_name = folder_train + list(set(folder_train) - set(folder_test))\n",
        "print(class_name)\n",
        "print(len(class_name))"
      ]
    },
    {
      "cell_type": "code",
      "execution_count": null,
      "metadata": {
        "id": "GIVjamD7nPw-"
      },
      "outputs": [],
      "source": [
        "for i, folder in enumerate(class_name):\n",
        "  empty_array = np.zeros(len(class_name))\n",
        "  empty_array[i] = 1\n",
        "  files = os.listdir(directory_train+\"/\"+folder)\n",
        "  count = 0\n",
        "  for my_file in files:\n",
        "    count += 1\n",
        "    img = load_img(directory_train+\"/\"+folder+\"/\"+my_file)\n",
        "    img = img.resize((250,250))\n",
        "    img = img_to_array(img)\n",
        "    Y_Train.append(empty_array)\n",
        "    X_Train.append(img)\n",
        "  print(folder, count)"
      ]
    },
    {
      "cell_type": "code",
      "execution_count": null,
      "metadata": {
        "id": "fWNoH_e2pjH7"
      },
      "outputs": [],
      "source": [
        "for i, folder in enumerate(class_name):\n",
        "  empty_array = np.zeros(len(class_name))\n",
        "  empty_array[i] = 1\n",
        "  files = os.listdir(directory_test+\"/\"+folder)\n",
        "  count = 0\n",
        "  for my_file in files:\n",
        "    count += 1\n",
        "    img = load_img(directory_test+\"/\"+folder+\"/\"+my_file)\n",
        "    img = img.resize((250,250))\n",
        "    img = img_to_array(img)\n",
        "    Y_Test.append(empty_array)\n",
        "    X_Test.append(img)\n",
        "  print(folder, count)"
      ]
    },
    {
      "cell_type": "code",
      "execution_count": null,
      "metadata": {
        "id": "LkXKVCliq0os"
      },
      "outputs": [],
      "source": [
        "X_Train = np.array(X_Train)\n",
        "Y_Train = np.array(Y_Train)\n",
        "X_Test = np.array(X_Test)\n",
        "Y_Test = np.array(Y_Test)"
      ]
    },
    {
      "cell_type": "code",
      "execution_count": null,
      "metadata": {
        "id": "df4VUy0eqULj"
      },
      "outputs": [],
      "source": [
        "Vector = 250*250*3\n",
        "X_Train = X_Train.reshape(len(Y_Train),250,250,3)\n",
        "X_Test = X_Test.reshape(len(Y_Test),250,250,3)"
      ]
    },
    {
      "cell_type": "code",
      "execution_count": null,
      "metadata": {
        "colab": {
          "base_uri": "https://localhost:8080/",
          "height": 1000
        },
        "id": "6o4awF4TrGCT",
        "outputId": "15b79ef2-2c8e-4158-aeff-6146072f94f8"
      },
      "outputs": [],
      "source": [
        "plt.rcParams['figure.figsize'] = (10,10) # change figure size to plot graph\n",
        "\n",
        "# นำข้อมูลใน Dataset ออกมาแสดง แค่ 16 ตัวโดยจะแสดงเป็น 4 แถว 4 คอลัม\n",
        "for i in range(16):\n",
        "    plt.subplot(4,4,i+1)\n",
        "    img_array = X_Train[i]\n",
        "    plt.imshow(np.uint8(img_array))\n",
        "    cl = np.argmax(Y_Train[i])\n",
        "    plt.title(\"Class {}\".format(class_name[cl]))\n",
        "\n",
        "plt.tight_layout()"
      ]
    },
    {
      "cell_type": "code",
      "execution_count": null,
      "metadata": {
        "colab": {
          "base_uri": "https://localhost:8080/"
        },
        "id": "WeTeIcStsmYb",
        "outputId": "4de101fd-8ebe-424a-8e49-2e8da631aa8b"
      },
      "outputs": [],
      "source": [
        "# Input\n",
        "model = Sequential()\n",
        "model.add(Conv2D(64, kernel_size=(3, 3),\n",
        "                 activation='relu',\n",
        "                 padding='same',\n",
        "                 input_shape=(250,250, 3)))\n",
        "model.add(MaxPooling2D((3, 3)))\n",
        "\n",
        "# Hidden\n",
        "model.add(Dropout(0.2))\n",
        "model.add(Dense(32,  activation='relu'))\n",
        "# model.add(Dense(16,  activation='relu'))\n",
        "\n",
        "# Output\n",
        "model.add(Flatten())\n",
        "model.add(Dense(len(class_name), activation='softmax'))\n",
        "model.summary()"
      ]
    },
    {
      "cell_type": "code",
      "execution_count": null,
      "metadata": {
        "id": "Vr6FzoAts95b"
      },
      "outputs": [],
      "source": [
        "model.compile(loss='categorical_crossentropy', optimizer='adam', metrics=['accuracy'])"
      ]
    },
    {
      "cell_type": "code",
      "execution_count": null,
      "metadata": {
        "id": "6MWaauIZtA7b"
      },
      "outputs": [],
      "source": [
        "history = model.fit(X_Train, Y_Train, batch_size=5, epochs=30, validation_data=(X_Test, Y_Test))"
      ]
    },
    {
      "cell_type": "code",
      "execution_count": null,
      "metadata": {
        "id": "7MHz_5GqtEB6"
      },
      "outputs": [],
      "source": [
        "score = model.evaluate(X_Train, Y_Train, verbose = 0)\n",
        "print('Train loss : ', score[0])\n",
        "print('Train accuracy : ', score[1])"
      ]
    },
    {
      "cell_type": "code",
      "execution_count": null,
      "metadata": {
        "id": "RWYDdh0atFO6"
      },
      "outputs": [],
      "source": [
        "score1 = model.evaluate(X_Test, Y_Test, verbose = 0)\n",
        "print('Test loss : ', score1[0])\n",
        "print('Test accuracy : ', score1[1])"
      ]
    },
    {
      "cell_type": "code",
      "execution_count": null,
      "metadata": {
        "id": "4vlI4HXOtG7S"
      },
      "outputs": [],
      "source": [
        "pd.DataFrame(history.history).plot(figsize=(8, 5))\n",
        "plt.grid(True)\n",
        "plt.gca().set_ylim(0, 1)\n",
        "plt.show()"
      ]
    },
    {
      "cell_type": "code",
      "execution_count": null,
      "metadata": {
        "id": "3m_OUR_RtJRy"
      },
      "outputs": [],
      "source": [
        "y_pred = model.predict(X_Test)\n",
        "\n",
        "y_test_class = np.argmax(Y_Test,axis=-1)\n",
        "y_pred_class = np.argmax(y_pred,axis=-1)\n",
        "\n",
        "print(confusion_matrix(y_test_class,y_pred_class))"
      ]
    },
    {
      "cell_type": "code",
      "execution_count": null,
      "metadata": {
        "id": "X1GzkkN0tLfq"
      },
      "outputs": [],
      "source": [
        "test_predict = tf.keras.Sequential([model,tf.keras.layers.Softmax()])\n",
        "result = test_predict.predict(X_Test)\n",
        "for i in range(16):\n",
        "  print(class_name[int(np.argmax(result[i]))])"
      ]
    },
    {
      "cell_type": "code",
      "execution_count": null,
      "metadata": {
        "id": "UHwIkiAQtNQi"
      },
      "outputs": [],
      "source": [
        "plt.rcParams['figure.figsize'] = (9,9) # change figure size to plot graph\n",
        "\n",
        "for i in range(16):\n",
        "    plt.subplot(4,4,i+1)\n",
        "    plt.imshow(np.uint8(X_Test[i]))\n",
        "    cl = np.argmax(result[i])\n",
        "    plt.title(\"Class {}\".format(class_name[cl]))\n",
        "plt.tight_layout()"
      ]
    },
    {
      "cell_type": "code",
      "execution_count": null,
      "metadata": {
        "id": "HoI7FZjX4qvS"
      },
      "outputs": [],
      "source": [
        "# ann_viz(model, filename='CNN_model.gv',title=\" Neural Network model from CNN\")\n",
        "# graph_file = graphviz.Source.from_file('CNN_model.gv')\n",
        "# graph_file"
      ]
    },
    {
      "cell_type": "markdown",
      "metadata": {
        "id": "6QQd6wq28x_3"
      },
      "source": [
        "# Export Model"
      ]
    },
    {
      "cell_type": "code",
      "execution_count": null,
      "metadata": {
        "id": "w33-FWvW4v7c"
      },
      "outputs": [],
      "source": [
        "# model.save('my_model')"
      ]
    }
  ],
  "metadata": {
    "accelerator": "GPU",
    "colab": {
      "gpuType": "T4",
      "provenance": []
    },
    "kernelspec": {
      "display_name": "Python 3",
      "name": "python3"
    },
    "language_info": {
      "codemirror_mode": {
        "name": "ipython",
        "version": 3
      },
      "file_extension": ".py",
      "mimetype": "text/x-python",
      "name": "python",
      "nbconvert_exporter": "python",
      "pygments_lexer": "ipython3",
      "version": "3.9.18"
    }
  },
  "nbformat": 4,
  "nbformat_minor": 0
}
